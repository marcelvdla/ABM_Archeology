{
 "cells": [
  {
   "cell_type": "code",
   "execution_count": 1,
   "metadata": {},
   "outputs": [],
   "source": [
    "import SALib\n",
    "import pandas as pd\n",
    "import numpy as np\n",
    "import matplotlib.pyplot as plt\n",
    "from mesa.batchrunner import BatchRunner\n",
    "from model import GeoVictoria"
   ]
  },
  {
   "cell_type": "code",
   "execution_count": 44,
   "metadata": {},
   "outputs": [
    {
     "name": "stdout",
     "output_type": "stream",
     "text": [
      "[4, 5, 9, 4, 3, 4, 21, 7, 1, 6, 6, 3, 6, 11, 9, 5, 9, 5, 14, 26, 27, 3, 5, 10, 11, 13, 6, 7, 18, 6, 6, 5, 15, 0, 34, 2, 2, 12, 5, 10, 9, 9, 12, 9, 1, 4, 6, 16, 53, 43, 14, 4, 26, 12, 16, 2, 6, 4, 3, 5, 3, 9, 5, 9, 9, 11, 37, 1, 16, 51, 8, 6, 5, 5, 10, 16, 19, 12, 5, 25, 2, 18, 6, 3, 2, 7, 13, 12, 7, 2, 1, 26, 32, 9, 1, 8, 10, 1, 2, 7, 4, 11, 3, 3, 22, 39, 12, 1, 8, 3, 3, 2, 23, 2, 40, 3, 46, 13, 6, 8, 8, 22, 10, 4, 6, 3, 6, 4, 2, 1, 3, 4, 5, 9, 15, 13, 10, 13, 2, 14, 8, 24, 3, 2, 5, 8, 17, 8, 14, 11, 16, 2, 21, 8, 8, 4, 10, 14, 12, 21, 6, 3, 11, 13, 9, 4, 28, 4, 13, 15, 4, 24, 25, 16, 15, 2, 47, 24, 9, 3, 25, 5, 5, 7, 9, 25, 6, 12, 18, 10, 6, 10, 8, 4, 11, 3, 14, 12, 4, 39, 6, 9, 7, 8, 8, 1, 14, 16, 10, 9, 5, 3, 4, 4, 5, 6, 9, 10, 7, 7, 12, 11, 3, 1, 9, 14, 10, 15, 8, 2, 7, 8, 30, 57, 11, 5, 3, 11, 6, 5, 12, 2, 7, 20, 4, 28, 10, 11, 10, 7, 18, 5, 6, 4, 14, 7, 9, 8, 42, 4, 3, 9, 5, 22, 19, 2, 2, 3, 11, 17, 8, 10, 11, 0, 10, 17, 10, 29, 2, 5, 43, 11, 1, 22, 2, 3, 15, 25, 6, 19, 4, 10, 12, 9, 13, 10, 5, 6, 8, 15, 5, 24, 7, 19, 21, 16, 10, 4, 26, 12, 17, 4, 1, 11, 12, 11, 10, 5, 12, 6, 5, 8, 16, 31, 15, 15, 6, 26, 9, 9, 12, 5, 7, 5, 7, 14, 4, 3, 26, 4, 6, 7, 9, 7, 10, 6, 40, 11, 2, 3, 5, 11, 27, 4, 16, 27, 7, 9, 13, 12, 13, 12, 1, 5, 2, 16, 9, 0, 15, 15, 9, 7, 4, 7, 3, 15, 17, 0, 23, 24, 28, 6, 3, 13, 9, 8, 4, 3, 13, 6, 1, 10, 14, 8, 6, 14, 3, 12, 3, 25, 9, 4, 9, 5, 3, 3, 2, 2, 9, 12, 5, 15, 4, 8, 5, 2, 2, 3, 6, 5, 22, 6, 6, 12, 13, 15, 21, 16, 8, 5, 8, 9, 25, 4, 11, 22, 6, 21, 6, 18, 6, 9, 28, 4, 47, 9, 9, 9, 2, 31, 5, 2, 19, 14, 7, 9, 2, 27, 9, 5, 26, 2, 5, 22, 12, 6, 25, 32, 15, 11, 11, 4, 4, 14, 5, 6, 8, 7, 15, 11, 10, 2, 25, 35, 2, 6, 7, 5, 9, 9, 8, 6, 12, 11, 5, 38, 22, 6, 2, 2, 2, 8, 4, 39, 10, 7, 3, 6, 44, 5, 30, 12, 4, 19, 2, 3, 19, 2, 10, 6, 13, 13, 39, 26, 6, 4, 8, 3, 5, 2, 9, 3, 12, 33, 12, 15, 14, 2, 3, 3, 19, 9, 16, 28, 0, 4, 18, 6, 20, 9, 12, 17, 5, 24, 10, 10, 6, 2, 2, 3, 33, 2, 3, 6, 6, 8, 2, 10, 9, 21, 28, 14, 10, 4, 3, 4, 49, 4, 1, 1, 6, 48, 8, 2, 11, 4, 49, 18, 3, 10, 3, 59, 5, 17, 14, 22, 7, 5, 15, 3, 14, 23, 2, 1, 14, 7, 24, 7, 13, 4, 4, 7, 4, 35, 8, 2, 10, 6, 3, 7, 8, 12, 12, 5, 13, 15, 9, 13, 12, 20, 17, 5, 11, 37, 12, 2, 19, 20, 19, 38, 5, 9, 3, 12, 6, 6, 8, 22, 4, 6, 12, 0, 25, 18, 24, 4, 2, 6, 16, 5, 10, 19, 7, 28, 14, 16, 17, 18, 9, 12, 2, 8, 1, 6, 17, 25, 5, 23, 7, 11, 22, 10, 12, 4, 19, 27, 5, 9, 4, 5, 24, 21, 2, 18, 4, 15, 47, 15, 19, 29, 16, 9, 20, 0, 14, 16, 7, 16, 22, 10, 5, 13, 6, 10, 38, 2, 23, 16, 17, 12, 7, 7, 3, 7, 6, 14, 10, 20, 7, 24, 2, 10, 6, 11, 2, 23, 2, 0, 7, 10, 3, 27, 11, 8, 7] [\n"
     ]
    },
    {
     "ename": "TypeError",
     "evalue": "unsupported operand type(s) for -: 'str' and 'str'",
     "output_type": "error",
     "traceback": [
      "\u001b[0;31m---------------------------------------------------------------------------\u001b[0m",
      "\u001b[0;31mTypeError\u001b[0m                                 Traceback (most recent call last)",
      "\u001b[1;32m/home/magnetification/Documents/University/CLS/Agent Based Modelling/Project/ABM_Archeology/sensitivity_analysis.ipynb Cell 2\u001b[0m in \u001b[0;36m<cell line: 57>\u001b[0;34m()\u001b[0m\n\u001b[1;32m     <a href='vscode-notebook-cell:/home/magnetification/Documents/University/CLS/Agent%20Based%20Modelling/Project/ABM_Archeology/sensitivity_analysis.ipynb#W1sZmlsZQ%3D%3D?line=53'>54</a>\u001b[0m         total \u001b[39m+\u001b[39m\u001b[39m=\u001b[39m np\u001b[39m.\u001b[39msum(np\u001b[39m.\u001b[39mabs(xi \u001b[39m-\u001b[39m x[i:]))\n\u001b[1;32m     <a href='vscode-notebook-cell:/home/magnetification/Documents/University/CLS/Agent%20Based%20Modelling/Project/ABM_Archeology/sensitivity_analysis.ipynb#W1sZmlsZQ%3D%3D?line=54'>55</a>\u001b[0m     \u001b[39mreturn\u001b[39;00m total \u001b[39m/\u001b[39m (\u001b[39mlen\u001b[39m(x)\u001b[39m*\u001b[39m\u001b[39m*\u001b[39m\u001b[39m2\u001b[39m \u001b[39m*\u001b[39m np\u001b[39m.\u001b[39mmean(x))\n\u001b[0;32m---> <a href='vscode-notebook-cell:/home/magnetification/Documents/University/CLS/Agent%20Based%20Modelling/Project/ABM_Archeology/sensitivity_analysis.ipynb#W1sZmlsZQ%3D%3D?line=56'>57</a>\u001b[0m data \u001b[39m=\u001b[39m read_data(problem)\n",
      "\u001b[1;32m/home/magnetification/Documents/University/CLS/Agent Based Modelling/Project/ABM_Archeology/sensitivity_analysis.ipynb Cell 2\u001b[0m in \u001b[0;36mread_data\u001b[0;34m(problem, convert)\u001b[0m\n\u001b[1;32m     <a href='vscode-notebook-cell:/home/magnetification/Documents/University/CLS/Agent%20Based%20Modelling/Project/ABM_Archeology/sensitivity_analysis.ipynb#W1sZmlsZQ%3D%3D?line=42'>43</a>\u001b[0m     data[var] \u001b[39m=\u001b[39m pd\u001b[39m.\u001b[39mread_csv(\u001b[39mf\u001b[39m\u001b[39m'\u001b[39m\u001b[39mData/SA_data_\u001b[39m\u001b[39m{\u001b[39;00mvar\u001b[39m}\u001b[39;00m\u001b[39m.csv\u001b[39m\u001b[39m'\u001b[39m)\n\u001b[1;32m     <a href='vscode-notebook-cell:/home/magnetification/Documents/University/CLS/Agent%20Based%20Modelling/Project/ABM_Archeology/sensitivity_analysis.ipynb#W1sZmlsZQ%3D%3D?line=43'>44</a>\u001b[0m     \u001b[39mif\u001b[39;00m convert:\n\u001b[0;32m---> <a href='vscode-notebook-cell:/home/magnetification/Documents/University/CLS/Agent%20Based%20Modelling/Project/ABM_Archeology/sensitivity_analysis.ipynb#W1sZmlsZQ%3D%3D?line=44'>45</a>\u001b[0m         \u001b[39mprint\u001b[39m(gini(data[var][\u001b[39m'\u001b[39;49m\u001b[39mPopulation\u001b[39;49m\u001b[39m'\u001b[39;49m]\u001b[39m.\u001b[39;49miloc[\u001b[39m0\u001b[39;49m]))\n\u001b[1;32m     <a href='vscode-notebook-cell:/home/magnetification/Documents/University/CLS/Agent%20Based%20Modelling/Project/ABM_Archeology/sensitivity_analysis.ipynb#W1sZmlsZQ%3D%3D?line=45'>46</a>\u001b[0m         data[var][\u001b[39m'\u001b[39m\u001b[39mgini\u001b[39m\u001b[39m'\u001b[39m] \u001b[39m=\u001b[39m [gini(np\u001b[39m.\u001b[39marray(data[var][\u001b[39m'\u001b[39m\u001b[39mPopulation\u001b[39m\u001b[39m'\u001b[39m]\u001b[39m.\u001b[39miloc[i])) \u001b[39mfor\u001b[39;00m i \u001b[39min\u001b[39;00m \u001b[39mrange\u001b[39m(\u001b[39mlen\u001b[39m(data[var][\u001b[39m'\u001b[39m\u001b[39mPopulation\u001b[39m\u001b[39m'\u001b[39m]))]\n\u001b[1;32m     <a href='vscode-notebook-cell:/home/magnetification/Documents/University/CLS/Agent%20Based%20Modelling/Project/ABM_Archeology/sensitivity_analysis.ipynb#W1sZmlsZQ%3D%3D?line=47'>48</a>\u001b[0m \u001b[39mreturn\u001b[39;00m data\n",
      "\u001b[1;32m/home/magnetification/Documents/University/CLS/Agent Based Modelling/Project/ABM_Archeology/sensitivity_analysis.ipynb Cell 2\u001b[0m in \u001b[0;36mgini\u001b[0;34m(x)\u001b[0m\n\u001b[1;32m     <a href='vscode-notebook-cell:/home/magnetification/Documents/University/CLS/Agent%20Based%20Modelling/Project/ABM_Archeology/sensitivity_analysis.ipynb#W1sZmlsZQ%3D%3D?line=51'>52</a>\u001b[0m \u001b[39mfor\u001b[39;00m i, xi \u001b[39min\u001b[39;00m \u001b[39menumerate\u001b[39m(x[:\u001b[39m-\u001b[39m\u001b[39m1\u001b[39m], \u001b[39m1\u001b[39m):\n\u001b[1;32m     <a href='vscode-notebook-cell:/home/magnetification/Documents/University/CLS/Agent%20Based%20Modelling/Project/ABM_Archeology/sensitivity_analysis.ipynb#W1sZmlsZQ%3D%3D?line=52'>53</a>\u001b[0m     \u001b[39mprint\u001b[39m(x, xi)\n\u001b[0;32m---> <a href='vscode-notebook-cell:/home/magnetification/Documents/University/CLS/Agent%20Based%20Modelling/Project/ABM_Archeology/sensitivity_analysis.ipynb#W1sZmlsZQ%3D%3D?line=53'>54</a>\u001b[0m     total \u001b[39m+\u001b[39m\u001b[39m=\u001b[39m np\u001b[39m.\u001b[39msum(np\u001b[39m.\u001b[39mabs(xi \u001b[39m-\u001b[39;49m x[i:]))\n\u001b[1;32m     <a href='vscode-notebook-cell:/home/magnetification/Documents/University/CLS/Agent%20Based%20Modelling/Project/ABM_Archeology/sensitivity_analysis.ipynb#W1sZmlsZQ%3D%3D?line=54'>55</a>\u001b[0m \u001b[39mreturn\u001b[39;00m total \u001b[39m/\u001b[39m (\u001b[39mlen\u001b[39m(x)\u001b[39m*\u001b[39m\u001b[39m*\u001b[39m\u001b[39m2\u001b[39m \u001b[39m*\u001b[39m np\u001b[39m.\u001b[39mmean(x))\n",
      "\u001b[0;31mTypeError\u001b[0m: unsupported operand type(s) for -: 'str' and 'str'"
     ]
    }
   ],
   "source": [
    "# We define our variables and bounds\n",
    "problem = {\n",
    "    'num_vars': 4,\n",
    "    'names': ['stoch', 'alpha', 'beta', 'gamma'],\n",
    "    'bounds': [[0.5, 1], [1.5, 2.5], [0.1, 0.3], [0.001, 0.005]]\n",
    "}\n",
    "\n",
    "# Set the repetitions, the amount of steps, and the amount of distinct values per variable\n",
    "replicates = 5\n",
    "max_steps = 10\n",
    "distinct_samples = 3\n",
    "\n",
    "\n",
    "def get_data(problem, replicates, max_steps, distinct_samples):\n",
    "    # Set the outputs\n",
    "    model_reporters = {\"Population\": lambda m: [a.population for a in m.space.agents]}\n",
    "\n",
    "    data = {}\n",
    "\n",
    "    for i, var in enumerate(problem['names']):\n",
    "        # Get the bounds for this variable and get <distinct_samples> samples within this space (uniform)\n",
    "        samples = np.linspace(*problem['bounds'][i], num=distinct_samples)\n",
    "        \n",
    "        # Keep in mind that wolf_gain_from_food should be integers. You will have to change\n",
    "        # your code to acommodate for this or sample in such a way that you only get integers.\n",
    "        # if var == 'wolf_gain_from_food':\n",
    "        #     samples = np.linspace(*problem['bounds'][i], num=distinct_samples, dtype=int)\n",
    "        \n",
    "        batch = BatchRunner(GeoVictoria, \n",
    "                            max_steps=max_steps,\n",
    "                            iterations=replicates,\n",
    "                            variable_parameters={var: samples},\n",
    "                            model_reporters=model_reporters,\n",
    "                            display_progress=True)\n",
    "        \n",
    "        batch.run_all()\n",
    "        \n",
    "        data[var] = batch.get_model_vars_dataframe()\n",
    "\n",
    "def read_data(problem, convert=True):\n",
    "    data = dict()\n",
    "    for var in problem['names']:\n",
    "        data[var] = pd.read_csv(f'Data/SA_data_{var}.csv')\n",
    "        if convert:\n",
    "            print(gini(data[var]['Population'].iloc[0]))\n",
    "            data[var]['gini'] = [gini(np.array(data[var]['Population'].iloc[i])) for i in range(len(data[var]['Population']))]\n",
    "\n",
    "    return data\n",
    "\n",
    "def gini(x):\n",
    "    total = 0\n",
    "    for i, xi in enumerate(x[:-1], 1):\n",
    "        \n",
    "        total += np.sum(np.abs(xi - x[i:]))\n",
    "    return total / (len(x)**2 * np.mean(x))\n",
    "\n",
    "data = read_data(problem)"
   ]
  },
  {
   "cell_type": "code",
   "execution_count": 31,
   "metadata": {},
   "outputs": [
    {
     "data": {
      "text/plain": [
       "0     [4, 5, 9, 4, 3, 4, 21, 7, 1, 6, 6, 3, 6, 11, 9...\n",
       "1     [0, 5, 27, 6, 21, 4, 2, 8, 4, 13, 4, 26, 31, 1...\n",
       "2     [4, 7, 7, 14, 8, 9, 9, 9, 12, 5, 6, 6, 12, 15,...\n",
       "3     [17, 2, 18, 16, 9, 24, 2, 5, 19, 14, 3, 3, 8, ...\n",
       "4     [7, 3, 8, 6, 6, 2, 10, 12, 7, 31, 11, 25, 8, 1...\n",
       "5     [1, 8, 6, 26, 9, 5, 7, 12, 5, 11, 13, 3, 14, 9...\n",
       "6     [11, 5, 23, 6, 9, 8, 4, 14, 6, 9, 6, 3, 8, 12,...\n",
       "7     [18, 9, 2, 8, 8, 6, 9, 9, 3, 34, 7, 2, 9, 10, ...\n",
       "8     [12, 9, 20, 8, 3, 9, 14, 9, 6, 7, 4, 15, 2, 11...\n",
       "9     [7, 14, 5, 17, 9, 3, 11, 3, 14, 1, 3, 42, 1, 7...\n",
       "10    [9, 5, 5, 2, 5, 10, 2, 37, 5, 8, 5, 4, 2, 4, 2...\n",
       "11    [12, 18, 10, 4, 1, 14, 5, 21, 7, 0, 8, 23, 4, ...\n",
       "12    [8, 2, 8, 14, 13, 9, 5, 6, 4, 14, 10, 14, 2, 3...\n",
       "13    [9, 2, 4, 15, 7, 13, 11, 5, 4, 13, 7, 10, 1, 7...\n",
       "14    [11, 12, 0, 3, 5, 11, 16, 14, 4, 18, 19, 3, 3,...\n",
       "Name: Population, dtype: object"
      ]
     },
     "execution_count": 31,
     "metadata": {},
     "output_type": "execute_result"
    }
   ],
   "source": [
    "data['stoch']['Population']"
   ]
  },
  {
   "cell_type": "code",
   "execution_count": 34,
   "metadata": {},
   "outputs": [],
   "source": [
    "def plot_param_var_conf(ax, df, var, param, i):\n",
    "    \"\"\"\n",
    "    Helper function for plot_all_vars. Plots the individual parameter vs\n",
    "    variables passed.\n",
    "\n",
    "    Args:\n",
    "        ax: the axis to plot to\n",
    "        df: dataframe that holds the data to be plotted\n",
    "        var: variables to be taken from the dataframe\n",
    "        param: which output variable to plot\n",
    "    \"\"\"\n",
    "    # print(df)\n",
    "    x = df.groupby(var).mean().reset_index()[var]\n",
    "    y = df.groupby(var).mean()[param]\n",
    "\n",
    "    replicates = df.groupby(var)[param].count()\n",
    "    err = (1.96 * df.groupby(var)[param].std()) / np.sqrt(replicates)\n",
    "\n",
    "    ax.plot(x, y, c='k')\n",
    "    ax.fill_between(x, y - err, y + err)\n",
    "\n",
    "    ax.set_xlabel(var)\n",
    "    ax.set_ylabel(param)\n",
    "\n",
    "def plot_all_vars(df, param, problem):\n",
    "    \"\"\"\n",
    "    Plots the parameters passed vs each of the output variables.\n",
    "\n",
    "    Args:\n",
    "        df: dataframe that holds all data\n",
    "        param: the parameter to be plotted\n",
    "    \"\"\"\n",
    "\n",
    "    f, axs = plt.subplots(3, figsize=(7, 10))\n",
    "    \n",
    "    for i, var in enumerate(problem['names']):\n",
    "        print(i, var, df[var])\n",
    "        plot_param_var_conf(axs[i], df, var, param, i)"
   ]
  },
  {
   "cell_type": "code",
   "execution_count": 35,
   "metadata": {},
   "outputs": [
    {
     "name": "stdout",
     "output_type": "stream",
     "text": [
      "0 stoch     Unnamed: 0  stoch  Run                                         Population\n",
      "0            0   0.50    0  [4, 5, 9, 4, 3, 4, 21, 7, 1, 6, 6, 3, 6, 11, 9...\n",
      "1            1   0.50    1  [0, 5, 27, 6, 21, 4, 2, 8, 4, 13, 4, 26, 31, 1...\n",
      "2            2   0.50    2  [4, 7, 7, 14, 8, 9, 9, 9, 12, 5, 6, 6, 12, 15,...\n",
      "3            3   0.50    3  [17, 2, 18, 16, 9, 24, 2, 5, 19, 14, 3, 3, 8, ...\n",
      "4            4   0.50    4  [7, 3, 8, 6, 6, 2, 10, 12, 7, 31, 11, 25, 8, 1...\n",
      "5            5   0.75    5  [1, 8, 6, 26, 9, 5, 7, 12, 5, 11, 13, 3, 14, 9...\n",
      "6            6   0.75    6  [11, 5, 23, 6, 9, 8, 4, 14, 6, 9, 6, 3, 8, 12,...\n",
      "7            7   0.75    7  [18, 9, 2, 8, 8, 6, 9, 9, 3, 34, 7, 2, 9, 10, ...\n",
      "8            8   0.75    8  [12, 9, 20, 8, 3, 9, 14, 9, 6, 7, 4, 15, 2, 11...\n",
      "9            9   0.75    9  [7, 14, 5, 17, 9, 3, 11, 3, 14, 1, 3, 42, 1, 7...\n",
      "10          10   1.00   10  [9, 5, 5, 2, 5, 10, 2, 37, 5, 8, 5, 4, 2, 4, 2...\n",
      "11          11   1.00   11  [12, 18, 10, 4, 1, 14, 5, 21, 7, 0, 8, 23, 4, ...\n",
      "12          12   1.00   12  [8, 2, 8, 14, 13, 9, 5, 6, 4, 14, 10, 14, 2, 3...\n",
      "13          13   1.00   13  [9, 2, 4, 15, 7, 13, 11, 5, 4, 13, 7, 10, 1, 7...\n",
      "14          14   1.00   14  [11, 12, 0, 3, 5, 11, 16, 14, 4, 18, 19, 3, 3,...\n"
     ]
    },
    {
     "ename": "AttributeError",
     "evalue": "'dict' object has no attribute 'groupby'",
     "output_type": "error",
     "traceback": [
      "\u001b[0;31m---------------------------------------------------------------------------\u001b[0m",
      "\u001b[0;31mAttributeError\u001b[0m                            Traceback (most recent call last)",
      "\u001b[1;32m/home/magnetification/Documents/University/CLS/Agent Based Modelling/Project/ABM_Archeology/sensitivity_analysis.ipynb Cell 5\u001b[0m in \u001b[0;36m<cell line: 1>\u001b[0;34m()\u001b[0m\n\u001b[0;32m----> <a href='vscode-notebook-cell:/home/magnetification/Documents/University/CLS/Agent%20Based%20Modelling/Project/ABM_Archeology/sensitivity_analysis.ipynb#W5sZmlsZQ%3D%3D?line=0'>1</a>\u001b[0m plot_all_vars(data, \u001b[39m'\u001b[39;49m\u001b[39mPopulation\u001b[39;49m\u001b[39m'\u001b[39;49m, problem)\n\u001b[1;32m      <a href='vscode-notebook-cell:/home/magnetification/Documents/University/CLS/Agent%20Based%20Modelling/Project/ABM_Archeology/sensitivity_analysis.ipynb#W5sZmlsZQ%3D%3D?line=1'>2</a>\u001b[0m plt\u001b[39m.\u001b[39mshow()\n",
      "\u001b[1;32m/home/magnetification/Documents/University/CLS/Agent Based Modelling/Project/ABM_Archeology/sensitivity_analysis.ipynb Cell 5\u001b[0m in \u001b[0;36mplot_all_vars\u001b[0;34m(df, param, problem)\u001b[0m\n\u001b[1;32m     <a href='vscode-notebook-cell:/home/magnetification/Documents/University/CLS/Agent%20Based%20Modelling/Project/ABM_Archeology/sensitivity_analysis.ipynb#W5sZmlsZQ%3D%3D?line=35'>36</a>\u001b[0m \u001b[39mfor\u001b[39;00m i, var \u001b[39min\u001b[39;00m \u001b[39menumerate\u001b[39m(problem[\u001b[39m'\u001b[39m\u001b[39mnames\u001b[39m\u001b[39m'\u001b[39m]):\n\u001b[1;32m     <a href='vscode-notebook-cell:/home/magnetification/Documents/University/CLS/Agent%20Based%20Modelling/Project/ABM_Archeology/sensitivity_analysis.ipynb#W5sZmlsZQ%3D%3D?line=36'>37</a>\u001b[0m     \u001b[39mprint\u001b[39m(i, var, df[var])\n\u001b[0;32m---> <a href='vscode-notebook-cell:/home/magnetification/Documents/University/CLS/Agent%20Based%20Modelling/Project/ABM_Archeology/sensitivity_analysis.ipynb#W5sZmlsZQ%3D%3D?line=37'>38</a>\u001b[0m     plot_param_var_conf(axs[i], df, var, param, i)\n",
      "\u001b[1;32m/home/magnetification/Documents/University/CLS/Agent Based Modelling/Project/ABM_Archeology/sensitivity_analysis.ipynb Cell 5\u001b[0m in \u001b[0;36mplot_param_var_conf\u001b[0;34m(ax, df, var, param, i)\u001b[0m\n\u001b[1;32m      <a href='vscode-notebook-cell:/home/magnetification/Documents/University/CLS/Agent%20Based%20Modelling/Project/ABM_Archeology/sensitivity_analysis.ipynb#W5sZmlsZQ%3D%3D?line=1'>2</a>\u001b[0m \u001b[39m\"\"\"\u001b[39;00m\n\u001b[1;32m      <a href='vscode-notebook-cell:/home/magnetification/Documents/University/CLS/Agent%20Based%20Modelling/Project/ABM_Archeology/sensitivity_analysis.ipynb#W5sZmlsZQ%3D%3D?line=2'>3</a>\u001b[0m \u001b[39mHelper function for plot_all_vars. Plots the individual parameter vs\u001b[39;00m\n\u001b[1;32m      <a href='vscode-notebook-cell:/home/magnetification/Documents/University/CLS/Agent%20Based%20Modelling/Project/ABM_Archeology/sensitivity_analysis.ipynb#W5sZmlsZQ%3D%3D?line=3'>4</a>\u001b[0m \u001b[39mvariables passed.\u001b[39;00m\n\u001b[0;32m   (...)\u001b[0m\n\u001b[1;32m     <a href='vscode-notebook-cell:/home/magnetification/Documents/University/CLS/Agent%20Based%20Modelling/Project/ABM_Archeology/sensitivity_analysis.ipynb#W5sZmlsZQ%3D%3D?line=9'>10</a>\u001b[0m \u001b[39m    param: which output variable to plot\u001b[39;00m\n\u001b[1;32m     <a href='vscode-notebook-cell:/home/magnetification/Documents/University/CLS/Agent%20Based%20Modelling/Project/ABM_Archeology/sensitivity_analysis.ipynb#W5sZmlsZQ%3D%3D?line=10'>11</a>\u001b[0m \u001b[39m\"\"\"\u001b[39;00m\n\u001b[1;32m     <a href='vscode-notebook-cell:/home/magnetification/Documents/University/CLS/Agent%20Based%20Modelling/Project/ABM_Archeology/sensitivity_analysis.ipynb#W5sZmlsZQ%3D%3D?line=11'>12</a>\u001b[0m \u001b[39m# print(df)\u001b[39;00m\n\u001b[0;32m---> <a href='vscode-notebook-cell:/home/magnetification/Documents/University/CLS/Agent%20Based%20Modelling/Project/ABM_Archeology/sensitivity_analysis.ipynb#W5sZmlsZQ%3D%3D?line=12'>13</a>\u001b[0m x \u001b[39m=\u001b[39m df\u001b[39m.\u001b[39;49mgroupby(var)\u001b[39m.\u001b[39mmean()\u001b[39m.\u001b[39mreset_index()[var]\n\u001b[1;32m     <a href='vscode-notebook-cell:/home/magnetification/Documents/University/CLS/Agent%20Based%20Modelling/Project/ABM_Archeology/sensitivity_analysis.ipynb#W5sZmlsZQ%3D%3D?line=13'>14</a>\u001b[0m y \u001b[39m=\u001b[39m df\u001b[39m.\u001b[39mgroupby(var)\u001b[39m.\u001b[39mmean()[param]\n\u001b[1;32m     <a href='vscode-notebook-cell:/home/magnetification/Documents/University/CLS/Agent%20Based%20Modelling/Project/ABM_Archeology/sensitivity_analysis.ipynb#W5sZmlsZQ%3D%3D?line=15'>16</a>\u001b[0m replicates \u001b[39m=\u001b[39m df\u001b[39m.\u001b[39mgroupby(var)[param]\u001b[39m.\u001b[39mcount()\n",
      "\u001b[0;31mAttributeError\u001b[0m: 'dict' object has no attribute 'groupby'"
     ]
    },
    {
     "data": {
      "image/png": "[encoded data removed]",
      "text/plain": [
       "<Figure size 504x720 with 3 Axes>"
      ]
     },
     "metadata": {
      "needs_background": "light"
     },
     "output_type": "display_data"
    }
   ],
   "source": [
    "plot_all_vars(data, 'Population', problem)\n",
    "plt.show()"
   ]
  },
  {
   "cell_type": "code",
   "execution_count": null,
   "metadata": {},
   "outputs": [],
   "source": []
  }
 ],
 "metadata": {
  "kernelspec": {
   "display_name": "Python 3",
   "language": "python",
   "name": "python3"
  },
  "language_info": {
   "codemirror_mode": {
    "name": "ipython",
    "version": 3
   },
   "file_extension": ".py",
   "mimetype": "text/x-python",
   "name": "python",
   "nbconvert_exporter": "python",
   "pygments_lexer": "ipython3",
   "version": "3.10.6"
  },
  "orig_nbformat": 4,
  "vscode": {
   "interpreter": {
    "hash": "916dbcbb3f70747c44a77c7bcd40155683ae19c65e1c03b4aa3499c5328201f1"
   }
  }
 },
 "nbformat": 4,
 "nbformat_minor": 2
}
