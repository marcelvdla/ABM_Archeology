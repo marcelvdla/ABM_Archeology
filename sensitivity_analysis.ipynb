{
 "cells": [
  {
   "cell_type": "code",
   "execution_count": 2,
   "metadata": {},
   "outputs": [],
   "source": [
    "import SALib\n",
    "import pandas as pd\n",
    "import numpy as np\n",
    "import matplotlib.pyplot as plt"
   ]
  },
  {
   "cell_type": "code",
   "execution_count": 3,
   "metadata": {},
   "outputs": [
    {
     "data": {
      "text/html": [
       "<div>\n",
       "<style scoped>\n",
       "    .dataframe tbody tr th:only-of-type {\n",
       "        vertical-align: middle;\n",
       "    }\n",
       "\n",
       "    .dataframe tbody tr th {\n",
       "        vertical-align: top;\n",
       "    }\n",
       "\n",
       "    .dataframe thead th {\n",
       "        text-align: right;\n",
       "    }\n",
       "</style>\n",
       "<table border=\"1\" class=\"dataframe\">\n",
       "  <thead>\n",
       "    <tr style=\"text-align: right;\">\n",
       "      <th></th>\n",
       "      <th>unique_id</th>\n",
       "      <th>population</th>\n",
       "      <th>number_of_miners</th>\n",
       "      <th>avg_probability</th>\n",
       "      <th>gold_stats</th>\n",
       "      <th>resource_stats</th>\n",
       "      <th>economic_opportunity</th>\n",
       "      <th>resources</th>\n",
       "    </tr>\n",
       "  </thead>\n",
       "  <tbody>\n",
       "  </tbody>\n",
       "</table>\n",
       "</div>"
      ],
      "text/plain": [
       "Empty DataFrame\n",
       "Columns: [unique_id, population, number_of_miners, avg_probability, gold_stats, resource_stats, economic_opportunity, resources]\n",
       "Index: []"
      ]
     },
     "execution_count": 3,
     "metadata": {},
     "output_type": "execute_result"
    }
   ],
   "source": [
    "# Variables\n",
    "problem = {\n",
    "    'num_vars': 3,\n",
    "    'names': [  \"population\",\n",
    "                \"number_of_miners\",\n",
    "                \"avg_probability\",\n",
    "                \"gold_stats\",\n",
    "                \"resource_stats\",\n",
    "                \"economic_opportunity\",\n",
    "                \"resources\"],\n",
    "    'bounds': [[0.01, 0.1], [0.01, 0.1], [5, 30]]\n",
    "}\n",
    "\n",
    "data = pd.read_csv('Data/data_None.csv')\n",
    "data.head()"
   ]
  },
  {
   "cell_type": "code",
   "execution_count": 4,
   "metadata": {},
   "outputs": [],
   "source": [
    "def plot_param_var_conf(ax, df, var, param, i):\n",
    "    \"\"\"\n",
    "    Helper function for plot_all_vars. Plots the individual parameter vs\n",
    "    variables passed.\n",
    "\n",
    "    Args:\n",
    "        ax: the axis to plot to\n",
    "        df: dataframe that holds the data to be plotted\n",
    "        var: variables to be taken from the dataframe\n",
    "        param: which output variable to plot\n",
    "    \"\"\"\n",
    "    # print(df)\n",
    "    x = df.groupby(var).mean().reset_index()[var]\n",
    "    y = df.groupby(var).mean()[param]\n",
    "\n",
    "    replicates = df.groupby(var)[param].count()\n",
    "    err = (1.96 * df.groupby(var)[param].std()) / np.sqrt(replicates)\n",
    "\n",
    "    ax.plot(x, y, c='k')\n",
    "    ax.fill_between(x, y - err, y + err)\n",
    "\n",
    "    ax.set_xlabel(var)\n",
    "    ax.set_ylabel(param)\n",
    "\n",
    "def plot_all_vars(df, param):\n",
    "    \"\"\"\n",
    "    Plots the parameters passed vs each of the output variables.\n",
    "\n",
    "    Args:\n",
    "        df: dataframe that holds all data\n",
    "        param: the parameter to be plotted\n",
    "    \"\"\"\n",
    "\n",
    "    f, axs = plt.subplots(3, figsize=(7, 10))\n",
    "    \n",
    "    for i, var in enumerate(problem['names']):\n",
    "        plot_param_var_conf(axs[i], data, var, param, i)"
   ]
  },
  {
   "cell_type": "code",
   "execution_count": null,
   "metadata": {},
   "outputs": [],
   "source": []
  }
 ],
 "metadata": {
  "kernelspec": {
   "display_name": "Python 3",
   "language": "python",
   "name": "python3"
  },
  "language_info": {
   "codemirror_mode": {
    "name": "ipython",
    "version": 3
   },
   "file_extension": ".py",
   "mimetype": "text/x-python",
   "name": "python",
   "nbconvert_exporter": "python",
   "pygments_lexer": "ipython3",
   "version": "3.10.6"
  },
  "orig_nbformat": 4,
  "vscode": {
   "interpreter": {
    "hash": "916dbcbb3f70747c44a77c7bcd40155683ae19c65e1c03b4aa3499c5328201f1"
   }
  }
 },
 "nbformat": 4,
 "nbformat_minor": 2
}
